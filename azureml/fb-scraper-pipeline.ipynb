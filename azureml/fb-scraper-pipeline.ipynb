{
  "cells": [
    {
      "cell_type": "code",
      "source": [
        "import azureml.core\r\n",
        "from azureml.core import Workspace, Datastore\r\n",
        "\r\n",
        "ws = Workspace.from_config()"
      ],
      "outputs": [],
      "execution_count": null,
      "metadata": {
        "jupyter": {
          "source_hidden": false,
          "outputs_hidden": false
        },
        "nteract": {
          "transient": {
            "deleting": false
          }
        },
        "gather": {
          "logged": 1638996126590
        }
      }
    },
    {
      "cell_type": "code",
      "source": [
        "from azureml.core.compute import ComputeTarget, AmlCompute\r\n",
        "\r\n",
        "compute_name = \"scraper-engine\"\r\n",
        "\r\n",
        "if compute_name in ws.compute_targets:\r\n",
        "    compute_target = ws.compute_targets[compute_name]\r\n",
        "    if compute_target and type(compute_target) is AmlCompute:\r\n",
        "        print('Found compute target: ' + compute_name)\r\n",
        "else:\r\n",
        "    print('Creating a new compute target...')\r\n",
        "    provisioning_config = AmlCompute.provisioning_configuration(vm_size='Standard_DS3_v2',\r\n",
        "                                                                min_nodes=0,\r\n",
        "                                                                max_nodes=4)\r\n",
        "    compute_target = ComputeTarget.create(\r\n",
        "        ws, compute_name, provisioning_config)\r\n",
        "\r\n",
        "    compute_target.wait_for_completion(\r\n",
        "        show_output=True, min_node_count=None, timeout_in_minutes=20)\r\n",
        "\r\n",
        "    print(compute_target.status.serialize())"
      ],
      "outputs": [],
      "execution_count": null,
      "metadata": {
        "jupyter": {
          "source_hidden": false,
          "outputs_hidden": false
        },
        "nteract": {
          "transient": {
            "deleting": false
          }
        },
        "gather": {
          "logged": 1638996128399
        }
      }
    },
    {
      "cell_type": "code",
      "source": [
        "from azureml.core.runconfig import RunConfiguration\r\n",
        "from azureml.core.conda_dependencies import CondaDependencies\r\n",
        "from azureml.core import Environment \r\n",
        "\r\n",
        "aml_run_config = RunConfiguration()\r\n",
        "aml_run_config.target = compute_target\r\n",
        "aml_run_config.environment.python.user_managed_dependencies = False\r\n",
        "\r\n",
        "aml_run_config.environment.python.conda_dependencies = CondaDependencies.create( \r\n",
        "    pip_packages=['azureml-sdk', 'azureml-dataset-runtime[fuse,pandas]', 'facebook-scraper'], \r\n",
        "    pin_sdk_version=False)"
      ],
      "outputs": [],
      "execution_count": null,
      "metadata": {
        "jupyter": {
          "source_hidden": false,
          "outputs_hidden": false
        },
        "nteract": {
          "transient": {
            "deleting": false
          }
        },
        "gather": {
          "logged": 1638996129818
        }
      }
    },
    {
      "cell_type": "code",
      "source": [
        "from azureml.pipeline.steps import PythonScriptStep\r\n",
        "\r\n",
        "scrap_data = PythonScriptStep(name=\"Facebook-scraper\",\r\n",
        "                        script_name=\"./scraper.py\",\r\n",
        "                        compute_target=compute_target,\r\n",
        "                        source_directory='./',\r\n",
        "                        runconfig=aml_run_config,\r\n",
        "                        allow_reuse=False)"
      ],
      "outputs": [],
      "execution_count": null,
      "metadata": {
        "jupyter": {
          "source_hidden": false,
          "outputs_hidden": false
        },
        "nteract": {
          "transient": {
            "deleting": false
          }
        },
        "gather": {
          "logged": 1638996131221
        }
      }
    },
    {
      "cell_type": "code",
      "source": [
        "# TODO complete data movement step \r\n",
        "# from azureml.pipeline.steps import DataTransferStep\r\n",
        "# from azureml.data.data_reference import DataReference\r\n",
        "\r\n",
        "# # https://github.com/Azure/MachineLearningNotebooks/blob/master//how-to-use-azureml/machine-learning-pipelines/intro-to-pipelines/aml-pipelines-data-transfer.ipynb\r\n",
        "# adlsgen2_datastore = Datastore.get(ws, 'workspaceblobstore')\r\n",
        "\r\n",
        "# adlsgen2_data_ref = DataReference(\r\n",
        "#     datastore=adlsgen2_datastore,\r\n",
        "#     data_reference_name='adls',\r\n",
        "#     path_on_datastore='fb_data')\r\n",
        "\r\n",
        "# transfer_data = DataTransferStep(\r\n",
        "#     name='transfer_data_to_adls',\r\n",
        "#     source_data_reference=adlsgen2_data_ref,\r\n",
        "#     destination_data_reference=adlsgen2_data_ref,\r\n",
        "#     compute_target=data_factory_compute)\r\n"
      ],
      "outputs": [],
      "execution_count": null,
      "metadata": {
        "jupyter": {
          "source_hidden": false,
          "outputs_hidden": false
        },
        "nteract": {
          "transient": {
            "deleting": false
          }
        }
      }
    },
    {
      "cell_type": "code",
      "source": [
        "from azureml.pipeline.core import Pipeline\r\n",
        "\r\n",
        "main_pipeline = Pipeline(workspace=ws, steps=[scrap_data])"
      ],
      "outputs": [],
      "execution_count": null,
      "metadata": {
        "jupyter": {
          "source_hidden": false,
          "outputs_hidden": false
        },
        "nteract": {
          "transient": {
            "deleting": false
          }
        },
        "gather": {
          "logged": 1638996133734
        }
      }
    },
    {
      "cell_type": "code",
      "source": [
        "from azureml.core import Experiment\r\n",
        "\r\n",
        "pipeline_run = Experiment(ws, 'Facebook-scraper-MS').submit(main_pipeline)\r\n",
        "pipeline_run.wait_for_completion()"
      ],
      "outputs": [],
      "execution_count": null,
      "metadata": {
        "jupyter": {
          "source_hidden": false,
          "outputs_hidden": false
        },
        "nteract": {
          "transient": {
            "deleting": false
          }
        },
        "gather": {
          "logged": 1635080391809
        }
      }
    }
  ],
  "metadata": {
    "kernelspec": {
      "name": "python3-azureml",
      "language": "python",
      "display_name": "Python 3.6 - AzureML"
    },
    "language_info": {
      "name": "python",
      "version": "3.6.9",
      "mimetype": "text/x-python",
      "codemirror_mode": {
        "name": "ipython",
        "version": 3
      },
      "pygments_lexer": "ipython3",
      "nbconvert_exporter": "python",
      "file_extension": ".py"
    },
    "microsoft": {
      "host": {
        "AzureML": {
          "notebookHasBeenCompleted": true
        }
      }
    },
    "nteract": {
      "version": "nteract-front-end@1.0.0"
    },
    "kernel_info": {
      "name": "python3-azureml"
    }
  },
  "nbformat": 4,
  "nbformat_minor": 0
}