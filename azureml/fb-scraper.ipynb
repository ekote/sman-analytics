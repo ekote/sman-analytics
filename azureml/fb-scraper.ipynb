{
  "cells": [
    {
      "cell_type": "code",
      "source": [
        "%pip install facebook-scraper"
      ],
      "outputs": [],
      "execution_count": null,
      "metadata": {}
    },
    {
      "cell_type": "code",
      "source": [
        "!python scraper.py"
      ],
      "outputs": [
        {
          "output_type": "stream",
          "name": "stdout",
          "text": "Traceback (most recent call last):\r\n  File \"scraper.py\", line 130, in <module>\r\n    _comments\r\nNameError: name '_comments' is not defined\r\n"
        }
      ],
      "execution_count": 1,
      "metadata": {
        "jupyter": {
          "source_hidden": false,
          "outputs_hidden": false
        },
        "nteract": {
          "transient": {
            "deleting": false
          }
        }
      }
    },
    {
      "cell_type": "code",
      "source": [
        "# move the data\r\n",
        "from azureml.core.datastore import Datastore\r\n",
        "from azureml.core import Workspace, Experiment\r\n",
        "\r\n",
        "ws = Workspace.from_config()"
      ],
      "outputs": [],
      "execution_count": 3,
      "metadata": {
        "jupyter": {
          "source_hidden": false,
          "outputs_hidden": false
        },
        "nteract": {
          "transient": {
            "deleting": false
          }
        },
        "gather": {
          "logged": 1638996811452
        }
      }
    },
    {
      "cell_type": "code",
      "source": [
        "blob_datastore = Datastore.get(ws, 'workspaceblobstore')"
      ],
      "outputs": [],
      "execution_count": 4,
      "metadata": {
        "jupyter": {
          "source_hidden": false,
          "outputs_hidden": false
        },
        "nteract": {
          "transient": {
            "deleting": false
          }
        },
        "gather": {
          "logged": 1638996866572
        }
      }
    },
    {
      "cell_type": "code",
      "source": [
        "blob_datastore.upload(src_dir='./microsoft', target_path='fb-data/microsoft', overwrite=False)"
      ],
      "outputs": [
        {
          "output_type": "stream",
          "name": "stdout",
          "text": "Uploading an estimated of 4 files\nUploading ./microsoft/.amlignore\nUploaded ./microsoft/.amlignore, 1 files out of an estimated total of 4\nUploading ./microsoft/requirements.txt\nUploaded ./microsoft/requirements.txt, 2 files out of an estimated total of 4\nUploading ./microsoft/123-2113/.amlignore\nUploaded ./microsoft/123-2113/.amlignore, 3 files out of an estimated total of 4\nUploading ./microsoft/123-2113/cookie.json\nUploaded ./microsoft/123-2113/cookie.json, 4 files out of an estimated total of 4\nUploaded 4 files\n"
        },
        {
          "output_type": "execute_result",
          "execution_count": 8,
          "data": {
            "text/plain": "$AZUREML_DATAREFERENCE_0ad8739d693e4f159772cbf65a8f9c60"
          },
          "metadata": {}
        }
      ],
      "execution_count": 8,
      "metadata": {
        "jupyter": {
          "source_hidden": false,
          "outputs_hidden": false
        },
        "nteract": {
          "transient": {
            "deleting": false
          }
        },
        "gather": {
          "logged": 1638997220069
        }
      }
    }
  ],
  "metadata": {
    "kernelspec": {
      "name": "python3-azureml",
      "language": "python",
      "display_name": "Python 3.6 - AzureML"
    },
    "language_info": {
      "name": "python",
      "version": "3.6.9",
      "mimetype": "text/x-python",
      "codemirror_mode": {
        "name": "ipython",
        "version": 3
      },
      "pygments_lexer": "ipython3",
      "nbconvert_exporter": "python",
      "file_extension": ".py"
    },
    "kernel_info": {
      "name": "python3-azureml"
    },
    "nteract": {
      "version": "nteract-front-end@1.0.0"
    }
  },
  "nbformat": 4,
  "nbformat_minor": 0
}